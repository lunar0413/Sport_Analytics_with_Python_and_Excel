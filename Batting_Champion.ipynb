{
  "nbformat": 4,
  "nbformat_minor": 0,
  "metadata": {
    "colab": {
      "provenance": []
    },
    "kernelspec": {
      "name": "python3",
      "display_name": "Python 3"
    },
    "language_info": {
      "name": "python"
    }
  },
  "cells": [
    {
      "cell_type": "code",
      "source": [
        "import pandas as pd\n",
        "df = pd.read_csv(\"2023_baseball_data.csv\")\n",
        "df"
      ],
      "metadata": {
        "id": "bF9tBerHoCIQ"
      },
      "execution_count": null,
      "outputs": []
    },
    {
      "cell_type": "code",
      "source": [
        "df_2 = df[[\"Name\",\"PA\",\"AB\",\"H\",\"BA\"]]\n",
        "df_2"
      ],
      "metadata": {
        "id": "I9ze3HL2dU9x"
      },
      "execution_count": null,
      "outputs": []
    },
    {
      "cell_type": "code",
      "source": [
        "df_3 = df.loc[0:2, \"Rk\":\"Age\"]\n",
        "df_3"
      ],
      "metadata": {
        "id": "_WTikA08fe4v"
      },
      "execution_count": null,
      "outputs": []
    },
    {
      "cell_type": "code",
      "source": [
        "df_4 = df.loc[:, \"Rk\":\"Age\"]\n",
        "df_4"
      ],
      "metadata": {
        "id": "0L8fvPLSiXKA"
      },
      "execution_count": null,
      "outputs": []
    },
    {
      "cell_type": "code",
      "source": [
        "df_5 = df.loc[:, [\"Name\",\"PA\",\"AB\",\"H\",\"BA\"]]\n",
        "df_5"
      ],
      "metadata": {
        "id": "p20sie_5ogR3"
      },
      "execution_count": null,
      "outputs": []
    },
    {
      "cell_type": "code",
      "source": [
        "df_6 = df.iloc[0:3, 0:3]\n",
        "df_6"
      ],
      "metadata": {
        "id": "81tQabsgS57L"
      },
      "execution_count": null,
      "outputs": []
    },
    {
      "cell_type": "code",
      "source": [
        "df_7 = df.iloc[0:3, :]\n",
        "df_7"
      ],
      "metadata": {
        "id": "TcpiAyGjUzlU"
      },
      "execution_count": null,
      "outputs": []
    },
    {
      "cell_type": "code",
      "source": [
        "df_8 = df.iloc[0:3, [1,6,7,9,18]]\n",
        "df_8"
      ],
      "metadata": {
        "id": "JHShGyAcVk-R"
      },
      "execution_count": null,
      "outputs": []
    },
    {
      "cell_type": "code",
      "source": [
        "df_final = df_5\n",
        "df_final"
      ],
      "metadata": {
        "id": "dgNlMxezetEQ"
      },
      "execution_count": null,
      "outputs": []
    },
    {
      "cell_type": "code",
      "source": [
        "df_final = df_final.drop(897, axis = 0)\n",
        "df_final"
      ],
      "metadata": {
        "id": "kguLeJAgh6JV"
      },
      "execution_count": null,
      "outputs": []
    },
    {
      "cell_type": "code",
      "source": [
        "df_practice = df_final.drop(\"BA\", axis = 1)\n",
        "df_practice"
      ],
      "metadata": {
        "id": "IqICgjNPjt6p"
      },
      "execution_count": null,
      "outputs": []
    },
    {
      "cell_type": "code",
      "source": [
        "import numpy as np"
      ],
      "metadata": {
        "id": "16XEJrwlKHwq"
      },
      "execution_count": null,
      "outputs": []
    },
    {
      "cell_type": "code",
      "source": [
        "df_final[\"MPABA\"] = np.where(df_final[\"PA\"]>=502, df_final[\"BA\"], df_final[\"H\"]/(df_final[\"AB\"]+(502-df_final[\"PA\"])))\n",
        "df_final"
      ],
      "metadata": {
        "id": "kK_nPeTKMA9b"
      },
      "execution_count": null,
      "outputs": []
    },
    {
      "cell_type": "code",
      "source": [
        "max_index = df_final[\"MPABA\"].idxmax()\n",
        "winner = df_final.loc[max_index, \"Name\"]\n",
        "print(winner)"
      ],
      "metadata": {
        "id": "nQ96BAarSzKq"
      },
      "execution_count": null,
      "outputs": []
    },
    {
      "cell_type": "code",
      "source": [
        "df_final[\"adjBA\"] = df_final[\"MPABA\"] + (df_final[\"AB\"]-447.10)*.000586\n",
        "df_final"
      ],
      "metadata": {
        "id": "02wU0FNQR-Zd"
      },
      "execution_count": null,
      "outputs": []
    },
    {
      "cell_type": "code",
      "source": [
        "max_index = df_final[\"adjBA\"].idxmax()\n",
        "winner_adjBA = df_final.loc[max_index, \"Name\"]\n",
        "print(winner_adjBA)"
      ],
      "metadata": {
        "id": "97Ws2WkUuHj8"
      },
      "execution_count": null,
      "outputs": []
    },
    {
      "cell_type": "code",
      "source": [
        "df_final_sorted = df_final.sort_values(by=\"adjBA\", ascending=False)\n",
        "print(df_final_sorted.head(10))"
      ],
      "metadata": {
        "id": "NDpikny5VyrV"
      },
      "execution_count": null,
      "outputs": []
    }
  ]
}